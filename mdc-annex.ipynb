{
 "cells": [
  {
   "cell_type": "code",
   "execution_count": 64,
   "id": "8ee08f1f-6e32-4e50-81d0-8be59ff7e974",
   "metadata": {},
   "outputs": [],
   "source": [
    "# Import modules\n",
    "import os\n",
    "import csv\n",
    "import html\n",
    "import re\n",
    "# Install the following modules by \"pip install NAME_OF_MODULE\" in the terminal\n",
    "import h5py\n",
    "# import rasterio \n",
    "# import geopandas\n",
    "# import grass"
   ]
  },
  {
   "cell_type": "code",
   "execution_count": 65,
   "id": "29fdf505",
   "metadata": {},
   "outputs": [
    {
     "name": "stdout",
     "output_type": "stream",
     "text": [
      "Your RAS Project File Name is: BGMPCawayan-Palaya\n"
     ]
    }
   ],
   "source": [
    "# Run this script at the project file directory\n",
    "# User to input HEC-RAS project file name. \n",
    "# This should be in: PROJECT_NAME.prj\n",
    "# file_name = input(\"Enter HEC-RAS 6.xx project file name (PROJECT_NAME.prj): \")\n",
    "file_name = \"BGMPCawayan-Palaya\" #TEMPORARY FOR TESTING\n",
    "print(f\"Your RAS Project File Name is: {file_name}\")"
   ]
  },
  {
   "cell_type": "code",
   "execution_count": 66,
   "id": "32c3cf2d",
   "metadata": {},
   "outputs": [],
   "source": [
    "# Get the current working directory\n",
    "# current_dir = os.getcwd() -> THIS WOULD BE THE COMMMITED CODE. ILL BE TESTING FOR A TEMP. FIRST\n",
    "working_dir = r\"C:\\Users\\Administrator\\AMH Philippines, Inc\\EDC Projects - 13 PP24.406 BMGP Cawayan-Palayan Type 1 GT\\06 WORK FILES\\01 HH\\04 HEC RAS\"\n"
   ]
  },
  {
   "cell_type": "code",
   "execution_count": 67,
   "id": "5047f3d3",
   "metadata": {},
   "outputs": [],
   "source": [
    "# Read all the contents of the working directory\n",
    "# This then creates a list of all the current plan files\n",
    "# The plan files are in format: PLAN_FILE.pxx.hdf\n",
    "get_files = os.path.join(working_dir, f\"{file_name}.p*.hdf\")\n",
    "pattern = re.compile(r\"{}\\.p\\d+\\.hdf\".format(file_name))\n",
    "plan_file_name = [f for f in os.listdir(working_dir) if re.match(pattern, f)]"
   ]
  },
  {
   "cell_type": "code",
   "execution_count": 68,
   "id": "11dbc142",
   "metadata": {},
   "outputs": [],
   "source": [
    "# Creates a list of all Results Map Folder (Short IDs)\n",
    "result_map_folder = []\n",
    "for name in plan_file_name:\n",
    "    hdf_dir = os.path.join(working_dir, name)\n",
    "    with h5py.File(hdf_dir, \"r\") as hdf_file:\n",
    "        group_path = hdf_file[\"Plan Data/Plan Information\"]\n",
    "        attribute_path = group_path.attrs[\"Plan ShortID\"].decode()    \n",
    "        result_map_folder.append(attribute_path)"
   ]
  }
 ],
 "metadata": {
  "kernelspec": {
   "display_name": "Python 3 (ipykernel)",
   "language": "python",
   "name": "python3"
  },
  "language_info": {
   "codemirror_mode": {
    "name": "ipython",
    "version": 3
   },
   "file_extension": ".py",
   "mimetype": "text/x-python",
   "name": "python",
   "nbconvert_exporter": "python",
   "pygments_lexer": "ipython3",
   "version": "3.12.4"
  }
 },
 "nbformat": 4,
 "nbformat_minor": 5
}
